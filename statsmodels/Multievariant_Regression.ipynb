{
 "cells": [
  {
   "cell_type": "markdown",
   "source": [
    "# Linear Regression : League of Legends Diamond Ranked Games (10 min)"
   ],
   "metadata": {}
  },
  {
   "cell_type": "code",
   "execution_count": 6,
   "source": [
    "import stat\n",
    "import pandas as pd\n",
    "from sklearn.model_selection import train_test_split # Import train_test_split"
   ],
   "outputs": [],
   "metadata": {
    "_uuid": "d629ff2d2480ee46fbb7e2d37f6b5fab8052498a",
    "_cell_guid": "79c7e3d0-c299-4dcb-8224-4455121ee9b0",
    "trusted": true
   }
  },
  {
   "cell_type": "code",
   "execution_count": 8,
   "source": [
    "df = pd.read_csv('../data/high_diamond_ranked_10min.csv')"
   ],
   "outputs": [],
   "metadata": {
    "trusted": true
   }
  },
  {
   "cell_type": "markdown",
   "source": [],
   "metadata": {
    "collapsed": false
   }
  },
  {
   "cell_type": "code",
   "execution_count": 9,
   "outputs": [
    {
     "data": {
      "text/plain": "          gameId  blueWins  blueWardsPlaced  blueWardsDestroyed  \\\n0     4519157822         0               28                   2   \n1     4523371949         0               12                   1   \n2     4521474530         0               15                   0   \n3     4524384067         0               43                   1   \n4     4436033771         0               75                   4   \n...          ...       ...              ...                 ...   \n9874  4527873286         1               17                   2   \n9875  4527797466         1               54                   0   \n9876  4527713716         0               23                   1   \n9877  4527628313         0               14                   4   \n9878  4523772935         1               18                   0   \n\n      blueFirstBlood  blueKills  blueDeaths  blueAssists  blueEliteMonsters  \\\n0                  1          9           6           11                  0   \n1                  0          5           5            5                  0   \n2                  0          7          11            4                  1   \n3                  0          4           5            5                  1   \n4                  0          6           6            6                  0   \n...              ...        ...         ...          ...                ...   \n9874               1          7           4            5                  1   \n9875               0          6           4            8                  1   \n9876               0          6           7            5                  0   \n9877               1          2           3            3                  1   \n9878               1          6           6            5                  0   \n\n      blueDragons  ...  redTowersDestroyed  redTotalGold  redAvgLevel  \\\n0               0  ...                   0         16567          6.8   \n1               0  ...                   1         17620          6.8   \n2               1  ...                   0         17285          6.8   \n3               0  ...                   0         16478          7.0   \n4               0  ...                   0         17404          7.0   \n...           ...  ...                 ...           ...          ...   \n9874            1  ...                   0         15246          6.8   \n9875            1  ...                   0         15456          7.0   \n9876            0  ...                   0         18319          7.4   \n9877            1  ...                   0         15298          7.2   \n9878            0  ...                   0         15339          6.8   \n\n      redTotalExperience  redTotalMinionsKilled  redTotalJungleMinionsKilled  \\\n0                  17047                    197                           55   \n1                  17438                    240                           52   \n2                  17254                    203                           28   \n3                  17961                    235                           47   \n4                  18313                    225                           67   \n...                  ...                    ...                          ...   \n9874               16498                    229                           34   \n9875               18367                    206                           56   \n9876               19909                    261                           60   \n9877               18314                    247                           40   \n9878               17379                    201                           46   \n\n      redGoldDiff  redExperienceDiff  redCSPerMin  redGoldPerMin  \n0            -643                  8         19.7         1656.7  \n1            2908               1173         24.0         1762.0  \n2            1172               1033         20.3         1728.5  \n3            1321                  7         23.5         1647.8  \n4            1004               -230         22.5         1740.4  \n...           ...                ...          ...            ...  \n9874        -2519              -2469         22.9         1524.6  \n9875         -782               -888         20.6         1545.6  \n9876         2416               1877         26.1         1831.9  \n9877          839               1085         24.7         1529.8  \n9878         -927                 58         20.1         1533.9  \n\n[9879 rows x 40 columns]",
      "text/html": "<div>\n<style scoped>\n    .dataframe tbody tr th:only-of-type {\n        vertical-align: middle;\n    }\n\n    .dataframe tbody tr th {\n        vertical-align: top;\n    }\n\n    .dataframe thead th {\n        text-align: right;\n    }\n</style>\n<table border=\"1\" class=\"dataframe\">\n  <thead>\n    <tr style=\"text-align: right;\">\n      <th></th>\n      <th>gameId</th>\n      <th>blueWins</th>\n      <th>blueWardsPlaced</th>\n      <th>blueWardsDestroyed</th>\n      <th>blueFirstBlood</th>\n      <th>blueKills</th>\n      <th>blueDeaths</th>\n      <th>blueAssists</th>\n      <th>blueEliteMonsters</th>\n      <th>blueDragons</th>\n      <th>...</th>\n      <th>redTowersDestroyed</th>\n      <th>redTotalGold</th>\n      <th>redAvgLevel</th>\n      <th>redTotalExperience</th>\n      <th>redTotalMinionsKilled</th>\n      <th>redTotalJungleMinionsKilled</th>\n      <th>redGoldDiff</th>\n      <th>redExperienceDiff</th>\n      <th>redCSPerMin</th>\n      <th>redGoldPerMin</th>\n    </tr>\n  </thead>\n  <tbody>\n    <tr>\n      <th>0</th>\n      <td>4519157822</td>\n      <td>0</td>\n      <td>28</td>\n      <td>2</td>\n      <td>1</td>\n      <td>9</td>\n      <td>6</td>\n      <td>11</td>\n      <td>0</td>\n      <td>0</td>\n      <td>...</td>\n      <td>0</td>\n      <td>16567</td>\n      <td>6.8</td>\n      <td>17047</td>\n      <td>197</td>\n      <td>55</td>\n      <td>-643</td>\n      <td>8</td>\n      <td>19.7</td>\n      <td>1656.7</td>\n    </tr>\n    <tr>\n      <th>1</th>\n      <td>4523371949</td>\n      <td>0</td>\n      <td>12</td>\n      <td>1</td>\n      <td>0</td>\n      <td>5</td>\n      <td>5</td>\n      <td>5</td>\n      <td>0</td>\n      <td>0</td>\n      <td>...</td>\n      <td>1</td>\n      <td>17620</td>\n      <td>6.8</td>\n      <td>17438</td>\n      <td>240</td>\n      <td>52</td>\n      <td>2908</td>\n      <td>1173</td>\n      <td>24.0</td>\n      <td>1762.0</td>\n    </tr>\n    <tr>\n      <th>2</th>\n      <td>4521474530</td>\n      <td>0</td>\n      <td>15</td>\n      <td>0</td>\n      <td>0</td>\n      <td>7</td>\n      <td>11</td>\n      <td>4</td>\n      <td>1</td>\n      <td>1</td>\n      <td>...</td>\n      <td>0</td>\n      <td>17285</td>\n      <td>6.8</td>\n      <td>17254</td>\n      <td>203</td>\n      <td>28</td>\n      <td>1172</td>\n      <td>1033</td>\n      <td>20.3</td>\n      <td>1728.5</td>\n    </tr>\n    <tr>\n      <th>3</th>\n      <td>4524384067</td>\n      <td>0</td>\n      <td>43</td>\n      <td>1</td>\n      <td>0</td>\n      <td>4</td>\n      <td>5</td>\n      <td>5</td>\n      <td>1</td>\n      <td>0</td>\n      <td>...</td>\n      <td>0</td>\n      <td>16478</td>\n      <td>7.0</td>\n      <td>17961</td>\n      <td>235</td>\n      <td>47</td>\n      <td>1321</td>\n      <td>7</td>\n      <td>23.5</td>\n      <td>1647.8</td>\n    </tr>\n    <tr>\n      <th>4</th>\n      <td>4436033771</td>\n      <td>0</td>\n      <td>75</td>\n      <td>4</td>\n      <td>0</td>\n      <td>6</td>\n      <td>6</td>\n      <td>6</td>\n      <td>0</td>\n      <td>0</td>\n      <td>...</td>\n      <td>0</td>\n      <td>17404</td>\n      <td>7.0</td>\n      <td>18313</td>\n      <td>225</td>\n      <td>67</td>\n      <td>1004</td>\n      <td>-230</td>\n      <td>22.5</td>\n      <td>1740.4</td>\n    </tr>\n    <tr>\n      <th>...</th>\n      <td>...</td>\n      <td>...</td>\n      <td>...</td>\n      <td>...</td>\n      <td>...</td>\n      <td>...</td>\n      <td>...</td>\n      <td>...</td>\n      <td>...</td>\n      <td>...</td>\n      <td>...</td>\n      <td>...</td>\n      <td>...</td>\n      <td>...</td>\n      <td>...</td>\n      <td>...</td>\n      <td>...</td>\n      <td>...</td>\n      <td>...</td>\n      <td>...</td>\n      <td>...</td>\n    </tr>\n    <tr>\n      <th>9874</th>\n      <td>4527873286</td>\n      <td>1</td>\n      <td>17</td>\n      <td>2</td>\n      <td>1</td>\n      <td>7</td>\n      <td>4</td>\n      <td>5</td>\n      <td>1</td>\n      <td>1</td>\n      <td>...</td>\n      <td>0</td>\n      <td>15246</td>\n      <td>6.8</td>\n      <td>16498</td>\n      <td>229</td>\n      <td>34</td>\n      <td>-2519</td>\n      <td>-2469</td>\n      <td>22.9</td>\n      <td>1524.6</td>\n    </tr>\n    <tr>\n      <th>9875</th>\n      <td>4527797466</td>\n      <td>1</td>\n      <td>54</td>\n      <td>0</td>\n      <td>0</td>\n      <td>6</td>\n      <td>4</td>\n      <td>8</td>\n      <td>1</td>\n      <td>1</td>\n      <td>...</td>\n      <td>0</td>\n      <td>15456</td>\n      <td>7.0</td>\n      <td>18367</td>\n      <td>206</td>\n      <td>56</td>\n      <td>-782</td>\n      <td>-888</td>\n      <td>20.6</td>\n      <td>1545.6</td>\n    </tr>\n    <tr>\n      <th>9876</th>\n      <td>4527713716</td>\n      <td>0</td>\n      <td>23</td>\n      <td>1</td>\n      <td>0</td>\n      <td>6</td>\n      <td>7</td>\n      <td>5</td>\n      <td>0</td>\n      <td>0</td>\n      <td>...</td>\n      <td>0</td>\n      <td>18319</td>\n      <td>7.4</td>\n      <td>19909</td>\n      <td>261</td>\n      <td>60</td>\n      <td>2416</td>\n      <td>1877</td>\n      <td>26.1</td>\n      <td>1831.9</td>\n    </tr>\n    <tr>\n      <th>9877</th>\n      <td>4527628313</td>\n      <td>0</td>\n      <td>14</td>\n      <td>4</td>\n      <td>1</td>\n      <td>2</td>\n      <td>3</td>\n      <td>3</td>\n      <td>1</td>\n      <td>1</td>\n      <td>...</td>\n      <td>0</td>\n      <td>15298</td>\n      <td>7.2</td>\n      <td>18314</td>\n      <td>247</td>\n      <td>40</td>\n      <td>839</td>\n      <td>1085</td>\n      <td>24.7</td>\n      <td>1529.8</td>\n    </tr>\n    <tr>\n      <th>9878</th>\n      <td>4523772935</td>\n      <td>1</td>\n      <td>18</td>\n      <td>0</td>\n      <td>1</td>\n      <td>6</td>\n      <td>6</td>\n      <td>5</td>\n      <td>0</td>\n      <td>0</td>\n      <td>...</td>\n      <td>0</td>\n      <td>15339</td>\n      <td>6.8</td>\n      <td>17379</td>\n      <td>201</td>\n      <td>46</td>\n      <td>-927</td>\n      <td>58</td>\n      <td>20.1</td>\n      <td>1533.9</td>\n    </tr>\n  </tbody>\n</table>\n<p>9879 rows × 40 columns</p>\n</div>"
     },
     "execution_count": 9,
     "metadata": {},
     "output_type": "execute_result"
    }
   ],
   "source": [
    "numerics = ['int16', 'int32', 'int64', 'float16', 'float32', 'float64']\n",
    "df.select_dtypes(include=numerics)"
   ],
   "metadata": {
    "collapsed": false,
    "pycharm": {
     "name": "#%%\n"
    }
   }
  },
  {
   "cell_type": "code",
   "execution_count": 10,
   "outputs": [],
   "source": [
    "feature_cols=['blueWardsPlaced', 'blueWardsDestroyed',\n",
    "              'blueFirstBlood', 'blueKills', 'blueDeaths', 'blueAssists',\n",
    "              'blueEliteMonsters', 'blueDragons', 'blueHeralds',\n",
    "              'blueTowersDestroyed', 'blueAvgLevel',\n",
    "              'blueTotalExperience', 'blueTotalMinionsKilled',\n",
    "              'blueTotalJungleMinionsKilled', 'blueExperienceDiff',\n",
    "              'blueCSPerMin']"
   ],
   "metadata": {
    "collapsed": false,
    "pycharm": {
     "name": "#%%\n"
    }
   }
  },
  {
   "cell_type": "code",
   "execution_count": 11,
   "outputs": [],
   "source": [
    "x=df[feature_cols]\n",
    "y=df.blueGoldDiff\n",
    "labels=['win','loss']"
   ],
   "metadata": {
    "collapsed": false,
    "pycharm": {
     "name": "#%%\n"
    }
   }
  },
  {
   "cell_type": "code",
   "execution_count": 13,
   "outputs": [],
   "source": [
    "df_train, df_test = train_test_split(df, test_size=0.7, random_state=1) # 70% training and 30% test"
   ],
   "metadata": {
    "collapsed": false,
    "pycharm": {
     "name": "#%%\n"
    }
   }
  },
  {
   "cell_type": "code",
   "execution_count": 23,
   "outputs": [],
   "source": [
    "import statsmodels.api as sm\n",
    "import statsmodels.formula.api as smf\n",
    "\n",
    "dat = sm.datasets.get_rdataset(\"Guerry\", \"HistData\").data\n",
    "\n",
    "\n",
    "results = smf.ols('blueGoldDiff ~ blueTotalExperience+blueEliteMonsters+blueDragons+blueHeralds', data=df_train).fit()"
   ],
   "metadata": {
    "collapsed": false,
    "pycharm": {
     "name": "#%%\n"
    }
   }
  },
  {
   "cell_type": "code",
   "execution_count": 24,
   "outputs": [
    {
     "name": "stdout",
     "output_type": "stream",
     "text": [
      "                            OLS Regression Results                            \n",
      "==============================================================================\n",
      "Dep. Variable:           blueGoldDiff   R-squared:                       0.541\n",
      "Model:                            OLS   Adj. R-squared:                  0.541\n",
      "Method:                 Least Squares   F-statistic:                     1165.\n",
      "Date:                Mon, 13 Dec 2021   Prob (F-statistic):               0.00\n",
      "Time:                        23:14:08   Log-Likelihood:                -26171.\n",
      "No. Observations:                2963   AIC:                         5.235e+04\n",
      "Df Residuals:                    2959   BIC:                         5.237e+04\n",
      "Df Model:                           3                                         \n",
      "Covariance Type:            nonrobust                                         \n",
      "=======================================================================================\n",
      "                          coef    std err          t      P>|t|      [0.025      0.975]\n",
      "---------------------------------------------------------------------------------------\n",
      "Intercept            -2.59e+04    465.703    -55.610      0.000   -2.68e+04    -2.5e+04\n",
      "blueTotalExperience     1.4291      0.026     54.446      0.000       1.378       1.481\n",
      "blueEliteMonsters     315.0522     34.353      9.171      0.000     247.695     382.410\n",
      "blueDragons           300.8948     50.227      5.991      0.000     202.411     399.379\n",
      "blueHeralds            14.1574     57.530      0.246      0.806     -98.646     126.961\n",
      "==============================================================================\n",
      "Omnibus:                       40.419   Durbin-Watson:                   2.049\n",
      "Prob(Omnibus):                  0.000   Jarque-Bera (JB):               44.007\n",
      "Skew:                           0.250   Prob(JB):                     2.78e-10\n",
      "Kurtosis:                       3.325   Cond. No.                     1.09e+20\n",
      "==============================================================================\n",
      "\n",
      "Notes:\n",
      "[1] Standard Errors assume that the covariance matrix of the errors is correctly specified.\n",
      "[2] The smallest eigenvalue is 7.98e-29. This might indicate that there are\n",
      "strong multicollinearity problems or that the design matrix is singular.\n"
     ]
    }
   ],
   "source": [
    "print(results.summary())"
   ],
   "metadata": {
    "collapsed": false,
    "pycharm": {
     "name": "#%%\n"
    }
   }
  }
 ],
 "metadata": {
  "kernelspec": {
   "name": "python3",
   "display_name": "Python 3.8.2 64-bit ('venv')"
  },
  "language_info": {
   "pygments_lexer": "ipython3",
   "nbconvert_exporter": "python",
   "version": "3.8.2",
   "file_extension": ".py",
   "codemirror_mode": {
    "name": "ipython",
    "version": 3
   },
   "name": "python",
   "mimetype": "text/x-python"
  },
  "interpreter": {
   "hash": "59a07652288ae11bfca304c23503851f3f740360bceb0ffa71d8ad912deea913"
  }
 },
 "nbformat": 4,
 "nbformat_minor": 4
}