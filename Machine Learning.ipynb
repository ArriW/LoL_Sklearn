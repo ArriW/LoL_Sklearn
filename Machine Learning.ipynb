{
 "cells": [
  {
   "cell_type": "markdown",
   "source": [
    "# League of Legends Diamond Ranked Games (10 min)"
   ],
   "metadata": {}
  },
  {
   "cell_type": "markdown",
   "source": [
    "- My site [skillcraft](https://skillcraft.codes)\n",
    "- This dataset [Kaggle](https://www.kaggle.com/bobbyscience/league-of-legends-diamond-ranked-games-10-min)\n",
    "- [Decision Classification Trees](https://www.datacamp.com/community/tutorials/decision-tree-classification-python)\n",
    "- Thanks for viewing\n",
    "\n",
    "Basic Machine Learning\n"
   ],
   "metadata": {}
  },
  {
   "cell_type": "code",
   "execution_count": 59,
   "source": [
    "import pandas as pd\n",
    "from sklearn.tree import DecisionTreeClassifier # Import Decision Tree Classifier\n",
    "from sklearn.model_selection import train_test_split # Import train_test_split function\n",
    "from sklearn import metrics #Import scikit-learn metrics module for accuracy calculation\n"
   ],
   "outputs": [],
   "metadata": {
    "_uuid": "d629ff2d2480ee46fbb7e2d37f6b5fab8052498a",
    "_cell_guid": "79c7e3d0-c299-4dcb-8224-4455121ee9b0",
    "trusted": true
   }
  },
  {
   "cell_type": "code",
   "execution_count": 60,
   "source": [
    "df = pd.read_csv('data/high_diamond_ranked_10min.csv')"
   ],
   "outputs": [],
   "metadata": {
    "trusted": true
   }
  },
  {
   "cell_type": "code",
   "execution_count": 78,
   "outputs": [
    {
     "data": {
      "text/plain": "Index(['gameId', 'blueWins', 'blueWardsPlaced', 'blueWardsDestroyed',\n       'blueFirstBlood', 'blueKills', 'blueDeaths', 'blueAssists',\n       'blueEliteMonsters', 'blueDragons', 'blueHeralds',\n       'blueTowersDestroyed', 'blueTotalGold', 'blueAvgLevel',\n       'blueTotalExperience', 'blueTotalMinionsKilled',\n       'blueTotalJungleMinionsKilled', 'blueGoldDiff', 'blueExperienceDiff',\n       'blueCSPerMin', 'blueGoldPerMin', 'redWardsPlaced', 'redWardsDestroyed',\n       'redFirstBlood', 'redKills', 'redDeaths', 'redAssists',\n       'redEliteMonsters', 'redDragons', 'redHeralds', 'redTowersDestroyed',\n       'redTotalGold', 'redAvgLevel', 'redTotalExperience',\n       'redTotalMinionsKilled', 'redTotalJungleMinionsKilled', 'redGoldDiff',\n       'redExperienceDiff', 'redCSPerMin', 'redGoldPerMin'],\n      dtype='object')"
     },
     "execution_count": 78,
     "metadata": {},
     "output_type": "execute_result"
    }
   ],
   "source": [
    "df.columns"
   ],
   "metadata": {
    "collapsed": false,
    "pycharm": {
     "name": "#%%\n"
    }
   }
  },
  {
   "cell_type": "code",
   "execution_count": 86,
   "outputs": [],
   "source": [
    "feature_cols=['blueWardsPlaced', 'blueWardsDestroyed',\n",
    "              'blueFirstBlood', 'blueKills', 'blueDeaths', 'blueAssists',\n",
    "              'blueEliteMonsters', 'blueDragons', 'blueHeralds',\n",
    "              'blueTowersDestroyed', 'blueTotalGold', 'blueAvgLevel',\n",
    "              'blueTotalExperience', 'blueTotalMinionsKilled',\n",
    "              'blueTotalJungleMinionsKilled', 'blueGoldDiff', 'blueExperienceDiff',\n",
    "              'blueCSPerMin', 'blueGoldPerMin']"
   ],
   "metadata": {
    "collapsed": false,
    "pycharm": {
     "name": "#%%\n"
    }
   }
  },
  {
   "cell_type": "code",
   "execution_count": 87,
   "outputs": [],
   "source": [
    "x=df[feature_cols]\n",
    "y=df.blueWins\n",
    "labels=['win','loss']"
   ],
   "metadata": {
    "collapsed": false,
    "pycharm": {
     "name": "#%%\n"
    }
   }
  },
  {
   "cell_type": "code",
   "execution_count": 88,
   "outputs": [],
   "source": [
    "x_train, x_test, y_train, y_test = train_test_split(x, y, test_size=0.3, random_state=1) # 70% training and 30% test"
   ],
   "metadata": {
    "collapsed": false,
    "pycharm": {
     "name": "#%%\n"
    }
   }
  },
  {
   "cell_type": "code",
   "execution_count": 93,
   "source": [
    "clf=DecisionTreeClassifier(criterion=\"entropy\",max_depth=3)\n",
    "clf=clf.fit(x_train,y_train)"
   ],
   "outputs": [],
   "metadata": {
    "trusted": true,
    "pycharm": {
     "name": "#%%\n"
    }
   }
  },
  {
   "cell_type": "code",
   "execution_count": 94,
   "outputs": [],
   "source": [
    "y_pred = clf.predict(x_test)"
   ],
   "metadata": {
    "collapsed": false,
    "pycharm": {
     "name": "#%%\n"
    }
   }
  },
  {
   "cell_type": "code",
   "execution_count": 95,
   "outputs": [
    {
     "name": "stdout",
     "output_type": "stream",
     "text": [
      "Accuracy: 0.7199730094466936\n"
     ]
    }
   ],
   "source": [
    "# Model Accuracy, how often is the classifier correct?\n",
    "print(\"Accuracy:\",metrics.accuracy_score(y_test, y_pred))"
   ],
   "metadata": {
    "collapsed": false,
    "pycharm": {
     "name": "#%%\n"
    }
   }
  },
  {
   "cell_type": "markdown",
   "source": [
    "Help with [Plotting Decision Classification](https://towardsdatascience.com/introduction-to-decision-tree-classifiers-from-scikit-learn-32cd5d23f4d)"
   ],
   "metadata": {
    "collapsed": false,
    "pycharm": {
     "name": "#%% md\n"
    }
   }
  },
  {
   "cell_type": "code",
   "execution_count": 96,
   "outputs": [
    {
     "name": "stdout",
     "output_type": "stream",
     "text": [
      "|--- blueGoldDiff <= 649.50\n",
      "|   |--- blueGoldDiff <= -1431.50\n",
      "|   |   |--- blueGoldDiff <= -3078.00\n",
      "|   |   |   |--- class: 0\n",
      "|   |   |--- blueGoldDiff >  -3078.00\n",
      "|   |   |   |--- class: 0\n",
      "|   |--- blueGoldDiff >  -1431.50\n",
      "|   |   |--- blueGoldDiff <= -644.00\n",
      "|   |   |   |--- class: 0\n",
      "|   |   |--- blueGoldDiff >  -644.00\n",
      "|   |   |   |--- class: 0\n",
      "|--- blueGoldDiff >  649.50\n",
      "|   |--- blueGoldDiff <= 1961.50\n",
      "|   |   |--- blueExperienceDiff <= 1459.50\n",
      "|   |   |   |--- class: 1\n",
      "|   |   |--- blueExperienceDiff >  1459.50\n",
      "|   |   |   |--- class: 1\n",
      "|   |--- blueGoldDiff >  1961.50\n",
      "|   |   |--- blueExperienceDiff <= 2545.50\n",
      "|   |   |   |--- class: 1\n",
      "|   |   |--- blueExperienceDiff >  2545.50\n",
      "|   |   |   |--- class: 1\n",
      "\n"
     ]
    }
   ],
   "source": [
    "#import relevant functions\n",
    "from sklearn.tree import export_text\n",
    "#export the decision rules\n",
    "tree_rules = export_text(clf,\n",
    "                        feature_names = list(feature_cols))\n",
    "#print the result\n",
    "print(tree_rules)"
   ],
   "metadata": {
    "collapsed": false,
    "pycharm": {
     "name": "#%%\n"
    }
   }
  },
  {
   "cell_type": "code",
   "execution_count": 69,
   "outputs": [
    {
     "data": {
      "text/plain": "<Figure size 432x288 with 2 Axes>",
      "image/png": "[encoded data removed]"
     },
     "metadata": {},
     "output_type": "display_data"
    },
    {
     "data": {
      "text/plain": "<Figure size 720x504 with 0 Axes>"
     },
     "metadata": {},
     "output_type": "display_data"
    }
   ],
   "source": [
    "#import the relevant packages\n",
    "from sklearn import metrics\n",
    "import seaborn as sns\n",
    "import matplotlib.pyplot as plt\n",
    "#get the confusion matrix\n",
    "confusion_matrix = metrics.confusion_matrix(y_test,\n",
    "                                            y_pred)\n",
    "#turn this into a dataframe\n",
    "matrix_df = pd.DataFrame(confusion_matrix)\n",
    "#plot the result\n",
    "ax = plt.axes()\n",
    "sns.set(font_scale=1.3)\n",
    "plt.figure(figsize=(10,7))\n",
    "sns.heatmap(matrix_df, annot=True, fmt=\"g\", ax=ax, cmap=\"magma\")\n",
    "#set axis titles\n",
    "ax.set_title('Confusion Matrix - Decision Tree')\n",
    "ax.set_xlabel(\"Predicted label\", fontsize =15)\n",
    "ax.set_xticklabels(labels)\n",
    "ax.set_ylabel(\"True Label\", fontsize=15)\n",
    "ax.set_yticklabels(list(labels), rotation = 0)\n",
    "plt.show()"
   ],
   "metadata": {
    "collapsed": false,
    "pycharm": {
     "name": "#%%\n"
    }
   }
  },
  {
   "cell_type": "code",
   "execution_count": null,
   "outputs": [],
   "source": [],
   "metadata": {
    "collapsed": false,
    "pycharm": {
     "name": "#%%\n"
    }
   }
  }
 ],
 "metadata": {
  "kernelspec": {
   "name": "python3",
   "display_name": "Python 3.8.2 64-bit ('venv')"
  },
  "language_info": {
   "pygments_lexer": "ipython3",
   "nbconvert_exporter": "python",
   "version": "3.8.2",
   "file_extension": ".py",
   "codemirror_mode": {
    "name": "ipython",
    "version": 3
   },
   "name": "python",
   "mimetype": "text/x-python"
  },
  "interpreter": {
   "hash": "59a07652288ae11bfca304c23503851f3f740360bceb0ffa71d8ad912deea913"
  }
 },
 "nbformat": 4,
 "nbformat_minor": 4
}